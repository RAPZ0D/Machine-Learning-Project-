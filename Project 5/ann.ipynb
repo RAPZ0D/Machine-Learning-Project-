{
 "cells": [
  {
   "cell_type": "markdown",
   "metadata": {},
   "source": [
    "# Artifical Neural Network "
   ]
  },
  {
   "cell_type": "code",
   "execution_count": 3,
   "metadata": {},
   "outputs": [],
   "source": [
    "import tensorflow as tf\n",
    "import numpy as np\n",
    "import pandas as pd \n",
    "from sklearn.model_selection import train_test_split\n",
    "from sklearn.preprocessing import LabelEncoder, OneHotEncoder, StandardScaler"
   ]
  },
  {
   "cell_type": "markdown",
   "metadata": {},
   "source": [
    "Tensorflow Version"
   ]
  },
  {
   "cell_type": "code",
   "execution_count": 2,
   "metadata": {},
   "outputs": [
    {
     "data": {
      "text/plain": [
       "'2.15.0'"
      ]
     },
     "execution_count": 2,
     "metadata": {},
     "output_type": "execute_result"
    }
   ],
   "source": [
    "tf.__version__"
   ]
  },
  {
   "cell_type": "markdown",
   "metadata": {},
   "source": [
    "Importing the dataset "
   ]
  },
  {
   "cell_type": "code",
   "execution_count": 4,
   "metadata": {},
   "outputs": [],
   "source": [
    "# Load the dataset\n",
    "file_path = 'Churn_Modelling.csv'\n",
    "data = pd.read_csv(file_path)"
   ]
  },
  {
   "cell_type": "markdown",
   "metadata": {},
   "source": [
    "Label Encoding Gender column"
   ]
  },
  {
   "cell_type": "code",
   "execution_count": 5,
   "metadata": {},
   "outputs": [],
   "source": [
    "# Label Encoding for 'Gender'\n",
    "label_encoder = LabelEncoder()\n",
    "data['Gender'] = label_encoder.fit_transform(data['Gender'])"
   ]
  },
  {
   "cell_type": "markdown",
   "metadata": {},
   "source": [
    "One hot encoding Geography Column "
   ]
  },
  {
   "cell_type": "code",
   "execution_count": 8,
   "metadata": {},
   "outputs": [
    {
     "name": "stderr",
     "output_type": "stream",
     "text": [
      "/Users/joelmendonsa/Desktop/ML Projects/newenv/lib/python3.10/site-packages/sklearn/preprocessing/_encoders.py:975: FutureWarning: `sparse` was renamed to `sparse_output` in version 1.2 and will be removed in 1.4. `sparse_output` is ignored unless you leave `sparse` to its default value.\n",
      "  warnings.warn(\n"
     ]
    }
   ],
   "source": [
    "# One-Hot Encoding for 'Geography'\n",
    "onehot_encoder = OneHotEncoder(drop='first', sparse=False)\n",
    "geography_encoded = onehot_encoder.fit_transform(data[['Geography']])\n",
    "geography_df = pd.DataFrame(geography_encoded, columns=[f'Geography_{i}' for i in range(geography_encoded.shape[1])])\n",
    "data = pd.concat([data, geography_df], axis=1)\n",
    "data.drop('Geography', axis=1, inplace=True)\n"
   ]
  },
  {
   "cell_type": "markdown",
   "metadata": {},
   "source": [
    "Train Test split"
   ]
  },
  {
   "cell_type": "code",
   "execution_count": 9,
   "metadata": {},
   "outputs": [],
   "source": [
    "# Splitting the dataset into features and target\n",
    "X = data.drop(['RowNumber', 'CustomerId', 'Surname', 'Exited'], axis=1)\n",
    "y = data['Exited']\n",
    "\n",
    "# Splitting into train and test sets\n",
    "X_train, X_test, y_train, y_test = train_test_split(X, y, test_size=0.2, random_state=42)\n"
   ]
  },
  {
   "cell_type": "markdown",
   "metadata": {},
   "source": [
    "Feature Scaling"
   ]
  },
  {
   "cell_type": "code",
   "execution_count": 10,
   "metadata": {},
   "outputs": [],
   "source": [
    "# Feature Scaling\n",
    "scaler = StandardScaler()\n",
    "X_train = scaler.fit_transform(X_train)\n",
    "X_test = scaler.transform(X_test)\n"
   ]
  },
  {
   "cell_type": "markdown",
   "metadata": {},
   "source": [
    "Building an ANN "
   ]
  },
  {
   "cell_type": "code",
   "execution_count": 11,
   "metadata": {},
   "outputs": [],
   "source": [
    "# Building the ANN\n",
    "ann = tf.keras.models.Sequential([\n",
    "    tf.keras.layers.Dense(units=6, activation='relu'),\n",
    "    tf.keras.layers.Dense(units=6, activation='relu'),\n",
    "    tf.keras.layers.Dense(units=1, activation='sigmoid')\n",
    "])\n"
   ]
  },
  {
   "cell_type": "code",
   "execution_count": 12,
   "metadata": {},
   "outputs": [],
   "source": [
    "# Compiling the ANN\n",
    "ann.compile(optimizer='adam', loss='binary_crossentropy', metrics=['accuracy'])\n"
   ]
  },
  {
   "cell_type": "code",
   "execution_count": 13,
   "metadata": {},
   "outputs": [
    {
     "name": "stdout",
     "output_type": "stream",
     "text": [
      "Epoch 1/100\n",
      "250/250 [==============================] - 0s 709us/step - loss: 0.5616 - accuracy: 0.7401 - val_loss: 0.4901 - val_accuracy: 0.8035\n",
      "Epoch 2/100\n",
      "250/250 [==============================] - 0s 392us/step - loss: 0.4808 - accuracy: 0.7941 - val_loss: 0.4540 - val_accuracy: 0.8025\n",
      "Epoch 3/100\n",
      "250/250 [==============================] - 0s 394us/step - loss: 0.4551 - accuracy: 0.8001 - val_loss: 0.4337 - val_accuracy: 0.8100\n",
      "Epoch 4/100\n",
      "250/250 [==============================] - 0s 390us/step - loss: 0.4410 - accuracy: 0.8058 - val_loss: 0.4231 - val_accuracy: 0.8135\n",
      "Epoch 5/100\n",
      "250/250 [==============================] - 0s 387us/step - loss: 0.4327 - accuracy: 0.8095 - val_loss: 0.4158 - val_accuracy: 0.8175\n",
      "Epoch 6/100\n",
      "250/250 [==============================] - 0s 385us/step - loss: 0.4256 - accuracy: 0.8115 - val_loss: 0.4083 - val_accuracy: 0.8210\n",
      "Epoch 7/100\n",
      "250/250 [==============================] - 0s 384us/step - loss: 0.4167 - accuracy: 0.8174 - val_loss: 0.4000 - val_accuracy: 0.8285\n",
      "Epoch 8/100\n",
      "250/250 [==============================] - 0s 386us/step - loss: 0.4051 - accuracy: 0.8254 - val_loss: 0.3890 - val_accuracy: 0.8335\n",
      "Epoch 9/100\n",
      "250/250 [==============================] - 0s 385us/step - loss: 0.3928 - accuracy: 0.8315 - val_loss: 0.3789 - val_accuracy: 0.8445\n",
      "Epoch 10/100\n",
      "250/250 [==============================] - 0s 386us/step - loss: 0.3830 - accuracy: 0.8389 - val_loss: 0.3730 - val_accuracy: 0.8465\n",
      "Epoch 11/100\n",
      "250/250 [==============================] - 0s 380us/step - loss: 0.3756 - accuracy: 0.8416 - val_loss: 0.3693 - val_accuracy: 0.8490\n",
      "Epoch 12/100\n",
      "250/250 [==============================] - 0s 382us/step - loss: 0.3703 - accuracy: 0.8443 - val_loss: 0.3636 - val_accuracy: 0.8455\n",
      "Epoch 13/100\n",
      "250/250 [==============================] - 0s 384us/step - loss: 0.3659 - accuracy: 0.8459 - val_loss: 0.3613 - val_accuracy: 0.8505\n",
      "Epoch 14/100\n",
      "250/250 [==============================] - 0s 380us/step - loss: 0.3619 - accuracy: 0.8496 - val_loss: 0.3582 - val_accuracy: 0.8515\n",
      "Epoch 15/100\n",
      "250/250 [==============================] - 0s 380us/step - loss: 0.3590 - accuracy: 0.8506 - val_loss: 0.3569 - val_accuracy: 0.8500\n",
      "Epoch 16/100\n",
      "250/250 [==============================] - 0s 381us/step - loss: 0.3559 - accuracy: 0.8529 - val_loss: 0.3559 - val_accuracy: 0.8530\n",
      "Epoch 17/100\n",
      "250/250 [==============================] - 0s 379us/step - loss: 0.3541 - accuracy: 0.8570 - val_loss: 0.3556 - val_accuracy: 0.8550\n",
      "Epoch 18/100\n",
      "250/250 [==============================] - 0s 377us/step - loss: 0.3524 - accuracy: 0.8560 - val_loss: 0.3534 - val_accuracy: 0.8555\n",
      "Epoch 19/100\n",
      "250/250 [==============================] - 0s 381us/step - loss: 0.3511 - accuracy: 0.8560 - val_loss: 0.3531 - val_accuracy: 0.8575\n",
      "Epoch 20/100\n",
      "250/250 [==============================] - 0s 378us/step - loss: 0.3496 - accuracy: 0.8572 - val_loss: 0.3518 - val_accuracy: 0.8570\n",
      "Epoch 21/100\n",
      "250/250 [==============================] - 0s 377us/step - loss: 0.3491 - accuracy: 0.8565 - val_loss: 0.3516 - val_accuracy: 0.8590\n",
      "Epoch 22/100\n",
      "250/250 [==============================] - 0s 379us/step - loss: 0.3484 - accuracy: 0.8576 - val_loss: 0.3509 - val_accuracy: 0.8580\n",
      "Epoch 23/100\n",
      "250/250 [==============================] - 0s 385us/step - loss: 0.3483 - accuracy: 0.8560 - val_loss: 0.3501 - val_accuracy: 0.8580\n",
      "Epoch 24/100\n",
      "250/250 [==============================] - 0s 377us/step - loss: 0.3474 - accuracy: 0.8565 - val_loss: 0.3493 - val_accuracy: 0.8605\n",
      "Epoch 25/100\n",
      "250/250 [==============================] - 0s 380us/step - loss: 0.3474 - accuracy: 0.8576 - val_loss: 0.3493 - val_accuracy: 0.8605\n",
      "Epoch 26/100\n",
      "250/250 [==============================] - 0s 376us/step - loss: 0.3462 - accuracy: 0.8576 - val_loss: 0.3525 - val_accuracy: 0.8580\n",
      "Epoch 27/100\n",
      "250/250 [==============================] - 0s 381us/step - loss: 0.3466 - accuracy: 0.8581 - val_loss: 0.3486 - val_accuracy: 0.8580\n",
      "Epoch 28/100\n",
      "250/250 [==============================] - 0s 379us/step - loss: 0.3455 - accuracy: 0.8600 - val_loss: 0.3478 - val_accuracy: 0.8625\n",
      "Epoch 29/100\n",
      "250/250 [==============================] - 0s 381us/step - loss: 0.3453 - accuracy: 0.8576 - val_loss: 0.3472 - val_accuracy: 0.8615\n",
      "Epoch 30/100\n",
      "250/250 [==============================] - 0s 381us/step - loss: 0.3446 - accuracy: 0.8587 - val_loss: 0.3484 - val_accuracy: 0.8580\n",
      "Epoch 31/100\n",
      "250/250 [==============================] - 0s 377us/step - loss: 0.3442 - accuracy: 0.8587 - val_loss: 0.3478 - val_accuracy: 0.8595\n",
      "Epoch 32/100\n",
      "250/250 [==============================] - 0s 380us/step - loss: 0.3436 - accuracy: 0.8599 - val_loss: 0.3467 - val_accuracy: 0.8575\n",
      "Epoch 33/100\n",
      "250/250 [==============================] - 0s 379us/step - loss: 0.3435 - accuracy: 0.8586 - val_loss: 0.3499 - val_accuracy: 0.8605\n",
      "Epoch 34/100\n",
      "250/250 [==============================] - 0s 382us/step - loss: 0.3435 - accuracy: 0.8594 - val_loss: 0.3467 - val_accuracy: 0.8595\n",
      "Epoch 35/100\n",
      "250/250 [==============================] - 0s 378us/step - loss: 0.3431 - accuracy: 0.8597 - val_loss: 0.3478 - val_accuracy: 0.8585\n",
      "Epoch 36/100\n",
      "250/250 [==============================] - 0s 378us/step - loss: 0.3430 - accuracy: 0.8596 - val_loss: 0.3485 - val_accuracy: 0.8585\n",
      "Epoch 37/100\n",
      "250/250 [==============================] - 0s 377us/step - loss: 0.3422 - accuracy: 0.8604 - val_loss: 0.3445 - val_accuracy: 0.8640\n",
      "Epoch 38/100\n",
      "250/250 [==============================] - 0s 380us/step - loss: 0.3425 - accuracy: 0.8600 - val_loss: 0.3449 - val_accuracy: 0.8635\n",
      "Epoch 39/100\n",
      "250/250 [==============================] - 0s 380us/step - loss: 0.3423 - accuracy: 0.8604 - val_loss: 0.3451 - val_accuracy: 0.8615\n",
      "Epoch 40/100\n",
      "250/250 [==============================] - 0s 378us/step - loss: 0.3417 - accuracy: 0.8599 - val_loss: 0.3449 - val_accuracy: 0.8610\n",
      "Epoch 41/100\n",
      "250/250 [==============================] - 0s 379us/step - loss: 0.3418 - accuracy: 0.8604 - val_loss: 0.3442 - val_accuracy: 0.8615\n",
      "Epoch 42/100\n",
      "250/250 [==============================] - 0s 377us/step - loss: 0.3413 - accuracy: 0.8609 - val_loss: 0.3451 - val_accuracy: 0.8630\n",
      "Epoch 43/100\n",
      "250/250 [==============================] - 0s 379us/step - loss: 0.3410 - accuracy: 0.8615 - val_loss: 0.3447 - val_accuracy: 0.8620\n",
      "Epoch 44/100\n",
      "250/250 [==============================] - 0s 378us/step - loss: 0.3412 - accuracy: 0.8593 - val_loss: 0.3451 - val_accuracy: 0.8630\n",
      "Epoch 45/100\n",
      "250/250 [==============================] - 0s 377us/step - loss: 0.3407 - accuracy: 0.8596 - val_loss: 0.3443 - val_accuracy: 0.8575\n",
      "Epoch 46/100\n",
      "250/250 [==============================] - 0s 380us/step - loss: 0.3408 - accuracy: 0.8600 - val_loss: 0.3437 - val_accuracy: 0.8635\n",
      "Epoch 47/100\n",
      "250/250 [==============================] - 0s 380us/step - loss: 0.3406 - accuracy: 0.8619 - val_loss: 0.3436 - val_accuracy: 0.8615\n",
      "Epoch 48/100\n",
      "250/250 [==============================] - 0s 378us/step - loss: 0.3403 - accuracy: 0.8601 - val_loss: 0.3439 - val_accuracy: 0.8615\n",
      "Epoch 49/100\n",
      "250/250 [==============================] - 0s 378us/step - loss: 0.3397 - accuracy: 0.8622 - val_loss: 0.3444 - val_accuracy: 0.8620\n",
      "Epoch 50/100\n",
      "250/250 [==============================] - 0s 379us/step - loss: 0.3401 - accuracy: 0.8608 - val_loss: 0.3431 - val_accuracy: 0.8615\n",
      "Epoch 51/100\n",
      "250/250 [==============================] - 0s 473us/step - loss: 0.3399 - accuracy: 0.8618 - val_loss: 0.3437 - val_accuracy: 0.8610\n",
      "Epoch 52/100\n",
      "250/250 [==============================] - 0s 377us/step - loss: 0.3400 - accuracy: 0.8621 - val_loss: 0.3432 - val_accuracy: 0.8640\n",
      "Epoch 53/100\n",
      "250/250 [==============================] - 0s 382us/step - loss: 0.3396 - accuracy: 0.8616 - val_loss: 0.3467 - val_accuracy: 0.8635\n",
      "Epoch 54/100\n",
      "250/250 [==============================] - 0s 376us/step - loss: 0.3399 - accuracy: 0.8627 - val_loss: 0.3428 - val_accuracy: 0.8620\n",
      "Epoch 55/100\n",
      "250/250 [==============================] - 0s 377us/step - loss: 0.3397 - accuracy: 0.8612 - val_loss: 0.3466 - val_accuracy: 0.8625\n",
      "Epoch 56/100\n",
      "250/250 [==============================] - 0s 379us/step - loss: 0.3398 - accuracy: 0.8612 - val_loss: 0.3426 - val_accuracy: 0.8600\n",
      "Epoch 57/100\n",
      "250/250 [==============================] - 0s 378us/step - loss: 0.3398 - accuracy: 0.8608 - val_loss: 0.3427 - val_accuracy: 0.8625\n",
      "Epoch 58/100\n",
      "250/250 [==============================] - 0s 378us/step - loss: 0.3393 - accuracy: 0.8618 - val_loss: 0.3427 - val_accuracy: 0.8630\n",
      "Epoch 59/100\n",
      "250/250 [==============================] - 0s 381us/step - loss: 0.3392 - accuracy: 0.8611 - val_loss: 0.3420 - val_accuracy: 0.8615\n",
      "Epoch 60/100\n",
      "250/250 [==============================] - 0s 379us/step - loss: 0.3391 - accuracy: 0.8605 - val_loss: 0.3421 - val_accuracy: 0.8610\n",
      "Epoch 61/100\n",
      "250/250 [==============================] - 0s 377us/step - loss: 0.3392 - accuracy: 0.8614 - val_loss: 0.3434 - val_accuracy: 0.8620\n",
      "Epoch 62/100\n",
      "250/250 [==============================] - 0s 379us/step - loss: 0.3394 - accuracy: 0.8630 - val_loss: 0.3422 - val_accuracy: 0.8645\n",
      "Epoch 63/100\n",
      "250/250 [==============================] - 0s 378us/step - loss: 0.3387 - accuracy: 0.8609 - val_loss: 0.3435 - val_accuracy: 0.8600\n",
      "Epoch 64/100\n",
      "250/250 [==============================] - 0s 377us/step - loss: 0.3387 - accuracy: 0.8609 - val_loss: 0.3431 - val_accuracy: 0.8605\n",
      "Epoch 65/100\n",
      "250/250 [==============================] - 0s 378us/step - loss: 0.3383 - accuracy: 0.8616 - val_loss: 0.3425 - val_accuracy: 0.8615\n",
      "Epoch 66/100\n",
      "250/250 [==============================] - 0s 378us/step - loss: 0.3388 - accuracy: 0.8608 - val_loss: 0.3411 - val_accuracy: 0.8645\n",
      "Epoch 67/100\n",
      "250/250 [==============================] - 0s 378us/step - loss: 0.3387 - accuracy: 0.8596 - val_loss: 0.3429 - val_accuracy: 0.8615\n",
      "Epoch 68/100\n",
      "250/250 [==============================] - 0s 377us/step - loss: 0.3381 - accuracy: 0.8615 - val_loss: 0.3437 - val_accuracy: 0.8585\n",
      "Epoch 69/100\n",
      "250/250 [==============================] - 0s 375us/step - loss: 0.3383 - accuracy: 0.8627 - val_loss: 0.3429 - val_accuracy: 0.8640\n",
      "Epoch 70/100\n",
      "250/250 [==============================] - 0s 378us/step - loss: 0.3385 - accuracy: 0.8605 - val_loss: 0.3431 - val_accuracy: 0.8620\n",
      "Epoch 71/100\n",
      "250/250 [==============================] - 0s 378us/step - loss: 0.3384 - accuracy: 0.8608 - val_loss: 0.3424 - val_accuracy: 0.8645\n",
      "Epoch 72/100\n",
      "250/250 [==============================] - 0s 409us/step - loss: 0.3382 - accuracy: 0.8606 - val_loss: 0.3434 - val_accuracy: 0.8610\n",
      "Epoch 73/100\n",
      "250/250 [==============================] - 0s 394us/step - loss: 0.3377 - accuracy: 0.8615 - val_loss: 0.3413 - val_accuracy: 0.8630\n",
      "Epoch 74/100\n",
      "250/250 [==============================] - 0s 386us/step - loss: 0.3382 - accuracy: 0.8606 - val_loss: 0.3431 - val_accuracy: 0.8610\n",
      "Epoch 75/100\n",
      "250/250 [==============================] - 0s 392us/step - loss: 0.3379 - accuracy: 0.8604 - val_loss: 0.3432 - val_accuracy: 0.8610\n",
      "Epoch 76/100\n",
      "250/250 [==============================] - 0s 391us/step - loss: 0.3379 - accuracy: 0.8618 - val_loss: 0.3414 - val_accuracy: 0.8605\n",
      "Epoch 77/100\n",
      "250/250 [==============================] - 0s 388us/step - loss: 0.3376 - accuracy: 0.8629 - val_loss: 0.3419 - val_accuracy: 0.8630\n",
      "Epoch 78/100\n",
      "250/250 [==============================] - 0s 384us/step - loss: 0.3374 - accuracy: 0.8621 - val_loss: 0.3417 - val_accuracy: 0.8605\n",
      "Epoch 79/100\n",
      "250/250 [==============================] - 0s 387us/step - loss: 0.3373 - accuracy: 0.8619 - val_loss: 0.3414 - val_accuracy: 0.8605\n",
      "Epoch 80/100\n",
      "250/250 [==============================] - 0s 382us/step - loss: 0.3368 - accuracy: 0.8614 - val_loss: 0.3472 - val_accuracy: 0.8600\n",
      "Epoch 81/100\n",
      "250/250 [==============================] - 0s 387us/step - loss: 0.3374 - accuracy: 0.8625 - val_loss: 0.3413 - val_accuracy: 0.8620\n",
      "Epoch 82/100\n",
      "250/250 [==============================] - 0s 389us/step - loss: 0.3373 - accuracy: 0.8608 - val_loss: 0.3421 - val_accuracy: 0.8660\n",
      "Epoch 83/100\n",
      "250/250 [==============================] - 0s 382us/step - loss: 0.3371 - accuracy: 0.8612 - val_loss: 0.3443 - val_accuracy: 0.8605\n",
      "Epoch 84/100\n",
      "250/250 [==============================] - 0s 383us/step - loss: 0.3370 - accuracy: 0.8594 - val_loss: 0.3417 - val_accuracy: 0.8635\n",
      "Epoch 85/100\n",
      "250/250 [==============================] - 0s 392us/step - loss: 0.3366 - accuracy: 0.8639 - val_loss: 0.3428 - val_accuracy: 0.8660\n",
      "Epoch 86/100\n",
      "250/250 [==============================] - 0s 387us/step - loss: 0.3368 - accuracy: 0.8619 - val_loss: 0.3406 - val_accuracy: 0.8625\n",
      "Epoch 87/100\n",
      "250/250 [==============================] - 0s 381us/step - loss: 0.3371 - accuracy: 0.8620 - val_loss: 0.3426 - val_accuracy: 0.8610\n",
      "Epoch 88/100\n",
      "250/250 [==============================] - 0s 378us/step - loss: 0.3364 - accuracy: 0.8606 - val_loss: 0.3407 - val_accuracy: 0.8635\n",
      "Epoch 89/100\n",
      "250/250 [==============================] - 0s 380us/step - loss: 0.3367 - accuracy: 0.8621 - val_loss: 0.3415 - val_accuracy: 0.8630\n",
      "Epoch 90/100\n",
      "250/250 [==============================] - 0s 378us/step - loss: 0.3366 - accuracy: 0.8625 - val_loss: 0.3416 - val_accuracy: 0.8625\n",
      "Epoch 91/100\n",
      "250/250 [==============================] - 0s 378us/step - loss: 0.3363 - accuracy: 0.8611 - val_loss: 0.3411 - val_accuracy: 0.8640\n",
      "Epoch 92/100\n",
      "250/250 [==============================] - 0s 378us/step - loss: 0.3365 - accuracy: 0.8612 - val_loss: 0.3429 - val_accuracy: 0.8620\n",
      "Epoch 93/100\n",
      "250/250 [==============================] - 0s 498us/step - loss: 0.3358 - accuracy: 0.8614 - val_loss: 0.3406 - val_accuracy: 0.8605\n",
      "Epoch 94/100\n",
      "250/250 [==============================] - 0s 381us/step - loss: 0.3363 - accuracy: 0.8604 - val_loss: 0.3405 - val_accuracy: 0.8650\n",
      "Epoch 95/100\n",
      "250/250 [==============================] - 0s 382us/step - loss: 0.3356 - accuracy: 0.8621 - val_loss: 0.3418 - val_accuracy: 0.8625\n",
      "Epoch 96/100\n",
      "250/250 [==============================] - 0s 379us/step - loss: 0.3361 - accuracy: 0.8610 - val_loss: 0.3415 - val_accuracy: 0.8635\n",
      "Epoch 97/100\n",
      "250/250 [==============================] - 0s 386us/step - loss: 0.3357 - accuracy: 0.8608 - val_loss: 0.3412 - val_accuracy: 0.8655\n",
      "Epoch 98/100\n",
      "250/250 [==============================] - 0s 390us/step - loss: 0.3355 - accuracy: 0.8599 - val_loss: 0.3433 - val_accuracy: 0.8630\n",
      "Epoch 99/100\n",
      "250/250 [==============================] - 0s 387us/step - loss: 0.3356 - accuracy: 0.8614 - val_loss: 0.3434 - val_accuracy: 0.8615\n",
      "Epoch 100/100\n",
      "250/250 [==============================] - 0s 390us/step - loss: 0.3361 - accuracy: 0.8609 - val_loss: 0.3422 - val_accuracy: 0.8635\n"
     ]
    },
    {
     "data": {
      "text/plain": [
       "<keras.src.callbacks.History at 0x1578398d0>"
      ]
     },
     "execution_count": 13,
     "metadata": {},
     "output_type": "execute_result"
    }
   ],
   "source": [
    "# Training the ANN on the training set\n",
    "ann.fit(X_train, y_train, batch_size=32, epochs=100, validation_data=(X_test, y_test))\n"
   ]
  },
  {
   "cell_type": "markdown",
   "metadata": {},
   "source": [
    "Prediction "
   ]
  },
  {
   "cell_type": "code",
   "execution_count": 14,
   "metadata": {},
   "outputs": [
    {
     "name": "stdout",
     "output_type": "stream",
     "text": [
      "63/63 [==============================] - 0s 280us/step\n",
      "Predictions:\n",
      "[[0]\n",
      " [0]\n",
      " [0]\n",
      " ...\n",
      " [1]\n",
      " [0]\n",
      " [0]]\n"
     ]
    }
   ],
   "source": [
    "# Assuming 'ann' is the trained ANN model\n",
    "predictions = ann.predict(X_test)\n",
    "\n",
    "# Convert predictions to binary (0 or 1) based on a threshold (e.g., 0.5)\n",
    "binary_predictions = (predictions > 0.5).astype(int)\n",
    "\n",
    "# Display the predictions\n",
    "print(\"Predictions:\")\n",
    "print(binary_predictions)\n"
   ]
  },
  {
   "cell_type": "code",
   "execution_count": null,
   "metadata": {},
   "outputs": [],
   "source": []
  }
 ],
 "metadata": {
  "kernelspec": {
   "display_name": "newenv",
   "language": "python",
   "name": "python3"
  },
  "language_info": {
   "codemirror_mode": {
    "name": "ipython",
    "version": 3
   },
   "file_extension": ".py",
   "mimetype": "text/x-python",
   "name": "python",
   "nbconvert_exporter": "python",
   "pygments_lexer": "ipython3",
   "version": "3.10.9"
  }
 },
 "nbformat": 4,
 "nbformat_minor": 2
}
