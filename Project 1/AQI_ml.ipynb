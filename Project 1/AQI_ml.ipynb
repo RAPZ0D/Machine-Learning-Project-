{
 "cells": [
  {
   "cell_type": "code",
   "execution_count": 1,
   "metadata": {},
   "outputs": [],
   "source": [
    "import pandas as pd \n",
    "import matplotlib.pyplot as plt \n",
    "import seaborn as sns \n",
    "import numpy as np "
   ]
  },
  {
   "cell_type": "markdown",
   "metadata": {},
   "source": [
    "### Importing the Dataset"
   ]
  },
  {
   "cell_type": "code",
   "execution_count": 8,
   "metadata": {},
   "outputs": [
    {
     "data": {
      "text/html": [
       "<div>\n",
       "<style scoped>\n",
       "    .dataframe tbody tr th:only-of-type {\n",
       "        vertical-align: middle;\n",
       "    }\n",
       "\n",
       "    .dataframe tbody tr th {\n",
       "        vertical-align: top;\n",
       "    }\n",
       "\n",
       "    .dataframe thead th {\n",
       "        text-align: right;\n",
       "    }\n",
       "</style>\n",
       "<table border=\"1\" class=\"dataframe\">\n",
       "  <thead>\n",
       "    <tr style=\"text-align: right;\">\n",
       "      <th></th>\n",
       "      <th>Geo_Loc</th>\n",
       "      <th>Year</th>\n",
       "      <th>State</th>\n",
       "      <th>Pop_Est</th>\n",
       "      <th>TTL_Cnty</th>\n",
       "      <th>Cnty_Rpt</th>\n",
       "      <th>Dys_w_AQI</th>\n",
       "      <th>Dys_NM</th>\n",
       "      <th>Dys_Blw_Thr</th>\n",
       "      <th>Dys_Abv_Thr</th>\n",
       "      <th>Good Days</th>\n",
       "      <th>Moderate Days</th>\n",
       "      <th>Unhealthy for Sensitive Groups Days</th>\n",
       "      <th>Unhealthy Days</th>\n",
       "      <th>Very Unhealthy Days</th>\n",
       "      <th>Hazardous Days</th>\n",
       "      <th>Max AQI</th>\n",
       "      <th>90th Percentile AQI</th>\n",
       "      <th>Median AQI</th>\n",
       "      <th>Days CO</th>\n",
       "      <th>Days NO2</th>\n",
       "      <th>Days Ozone</th>\n",
       "      <th>Days PM2.5</th>\n",
       "      <th>Days PM10</th>\n",
       "    </tr>\n",
       "  </thead>\n",
       "  <tbody>\n",
       "    <tr>\n",
       "      <th>0</th>\n",
       "      <td>POINT (-86.63186076199969 32.84057112200048)</td>\n",
       "      <td>1980</td>\n",
       "      <td>Alabama</td>\n",
       "      <td>3900368</td>\n",
       "      <td>67</td>\n",
       "      <td>7</td>\n",
       "      <td>1382</td>\n",
       "      <td>1180</td>\n",
       "      <td>1169</td>\n",
       "      <td>213</td>\n",
       "      <td>777</td>\n",
       "      <td>392</td>\n",
       "      <td>167</td>\n",
       "      <td>38</td>\n",
       "      <td>8</td>\n",
       "      <td>0</td>\n",
       "      <td>1282</td>\n",
       "      <td>774</td>\n",
       "      <td>314</td>\n",
       "      <td>240</td>\n",
       "      <td>334</td>\n",
       "      <td>808</td>\n",
       "      <td>0</td>\n",
       "      <td>0</td>\n",
       "    </tr>\n",
       "    <tr>\n",
       "      <th>1</th>\n",
       "      <td>POINT (-147.72205903599973 64.84507995700051)</td>\n",
       "      <td>1980</td>\n",
       "      <td>Alaska</td>\n",
       "      <td>405315</td>\n",
       "      <td>30</td>\n",
       "      <td>4</td>\n",
       "      <td>1184</td>\n",
       "      <td>280</td>\n",
       "      <td>1099</td>\n",
       "      <td>85</td>\n",
       "      <td>896</td>\n",
       "      <td>203</td>\n",
       "      <td>45</td>\n",
       "      <td>24</td>\n",
       "      <td>16</td>\n",
       "      <td>0</td>\n",
       "      <td>586</td>\n",
       "      <td>306</td>\n",
       "      <td>132</td>\n",
       "      <td>732</td>\n",
       "      <td>121</td>\n",
       "      <td>331</td>\n",
       "      <td>0</td>\n",
       "      <td>0</td>\n",
       "    </tr>\n",
       "    <tr>\n",
       "      <th>2</th>\n",
       "      <td>POINT (-111.76381127699972 34.865970280000454)</td>\n",
       "      <td>1980</td>\n",
       "      <td>Arizona</td>\n",
       "      <td>2737774</td>\n",
       "      <td>15</td>\n",
       "      <td>7</td>\n",
       "      <td>1866</td>\n",
       "      <td>696</td>\n",
       "      <td>1561</td>\n",
       "      <td>305</td>\n",
       "      <td>910</td>\n",
       "      <td>651</td>\n",
       "      <td>263</td>\n",
       "      <td>35</td>\n",
       "      <td>7</td>\n",
       "      <td>0</td>\n",
       "      <td>1078</td>\n",
       "      <td>678</td>\n",
       "      <td>355</td>\n",
       "      <td>721</td>\n",
       "      <td>151</td>\n",
       "      <td>994</td>\n",
       "      <td>0</td>\n",
       "      <td>0</td>\n",
       "    </tr>\n",
       "    <tr>\n",
       "      <th>3</th>\n",
       "      <td>POINT (-92.27449074299966 34.74865012400045)</td>\n",
       "      <td>1980</td>\n",
       "      <td>Arkansas</td>\n",
       "      <td>2288738</td>\n",
       "      <td>75</td>\n",
       "      <td>1</td>\n",
       "      <td>366</td>\n",
       "      <td>0</td>\n",
       "      <td>320</td>\n",
       "      <td>46</td>\n",
       "      <td>265</td>\n",
       "      <td>55</td>\n",
       "      <td>28</td>\n",
       "      <td>17</td>\n",
       "      <td>1</td>\n",
       "      <td>0</td>\n",
       "      <td>202</td>\n",
       "      <td>115</td>\n",
       "      <td>38</td>\n",
       "      <td>0</td>\n",
       "      <td>29</td>\n",
       "      <td>337</td>\n",
       "      <td>0</td>\n",
       "      <td>0</td>\n",
       "    </tr>\n",
       "    <tr>\n",
       "      <th>4</th>\n",
       "      <td>POINT (-120.99999953799971 37.63864012300047)</td>\n",
       "      <td>1980</td>\n",
       "      <td>California</td>\n",
       "      <td>23800800</td>\n",
       "      <td>58</td>\n",
       "      <td>41</td>\n",
       "      <td>13728</td>\n",
       "      <td>1278</td>\n",
       "      <td>11221</td>\n",
       "      <td>2507</td>\n",
       "      <td>7772</td>\n",
       "      <td>3449</td>\n",
       "      <td>1169</td>\n",
       "      <td>609</td>\n",
       "      <td>725</td>\n",
       "      <td>4</td>\n",
       "      <td>7869</td>\n",
       "      <td>4771</td>\n",
       "      <td>2215</td>\n",
       "      <td>1763</td>\n",
       "      <td>3685</td>\n",
       "      <td>8280</td>\n",
       "      <td>0</td>\n",
       "      <td>0</td>\n",
       "    </tr>\n",
       "  </tbody>\n",
       "</table>\n",
       "</div>"
      ],
      "text/plain": [
       "                                          Geo_Loc  Year       State   Pop_Est  \\\n",
       "0    POINT (-86.63186076199969 32.84057112200048)  1980     Alabama   3900368   \n",
       "1   POINT (-147.72205903599973 64.84507995700051)  1980      Alaska    405315   \n",
       "2  POINT (-111.76381127699972 34.865970280000454)  1980     Arizona   2737774   \n",
       "3    POINT (-92.27449074299966 34.74865012400045)  1980    Arkansas   2288738   \n",
       "4   POINT (-120.99999953799971 37.63864012300047)  1980  California  23800800   \n",
       "\n",
       "   TTL_Cnty  Cnty_Rpt  Dys_w_AQI  Dys_NM  Dys_Blw_Thr  Dys_Abv_Thr  Good Days  \\\n",
       "0        67         7       1382    1180         1169          213        777   \n",
       "1        30         4       1184     280         1099           85        896   \n",
       "2        15         7       1866     696         1561          305        910   \n",
       "3        75         1        366       0          320           46        265   \n",
       "4        58        41      13728    1278        11221         2507       7772   \n",
       "\n",
       "   Moderate Days  Unhealthy for Sensitive Groups Days  Unhealthy Days  \\\n",
       "0            392                                  167              38   \n",
       "1            203                                   45              24   \n",
       "2            651                                  263              35   \n",
       "3             55                                   28              17   \n",
       "4           3449                                 1169             609   \n",
       "\n",
       "   Very Unhealthy Days  Hazardous Days  Max AQI  90th Percentile AQI  \\\n",
       "0                    8               0     1282                  774   \n",
       "1                   16               0      586                  306   \n",
       "2                    7               0     1078                  678   \n",
       "3                    1               0      202                  115   \n",
       "4                  725               4     7869                 4771   \n",
       "\n",
       "   Median AQI  Days CO  Days NO2  Days Ozone  Days PM2.5  Days PM10  \n",
       "0         314      240       334         808           0          0  \n",
       "1         132      732       121         331           0          0  \n",
       "2         355      721       151         994           0          0  \n",
       "3          38        0        29         337           0          0  \n",
       "4        2215     1763      3685        8280           0          0  "
      ]
     },
     "execution_count": 8,
     "metadata": {},
     "output_type": "execute_result"
    }
   ],
   "source": [
    "df = pd.read_csv(\"AQI By State 1980-2022.csv\")\n",
    "pd.set_option('display.max_rows', None)\n",
    "pd.set_option('display.max_columns', None)\n",
    "df.head()"
   ]
  },
  {
   "cell_type": "code",
   "execution_count": 16,
   "metadata": {},
   "outputs": [],
   "source": [
    "X = df.iloc[:,3:].values\n",
    "y = df.iloc[:,2].values"
   ]
  },
  {
   "cell_type": "code",
   "execution_count": 19,
   "metadata": {},
   "outputs": [],
   "source": [
    "from sklearn.preprocessing import LabelEncoder\n",
    "le = LabelEncoder()\n",
    "y = le.fit_transform(y)"
   ]
  },
  {
   "cell_type": "code",
   "execution_count": 20,
   "metadata": {},
   "outputs": [
    {
     "data": {
      "text/plain": [
       "array([ 0,  1,  2, ..., 48, 49, 50])"
      ]
     },
     "execution_count": 20,
     "metadata": {},
     "output_type": "execute_result"
    }
   ],
   "source": [
    "y"
   ]
  },
  {
   "cell_type": "code",
   "execution_count": 22,
   "metadata": {},
   "outputs": [
    {
     "data": {
      "text/plain": [
       "array([[3900368,      67,       7, ...,     808,       0,       0],\n",
       "       [ 405315,      30,       4, ...,     331,       0,       0],\n",
       "       [2737774,      15,       7, ...,     994,       0,       0],\n",
       "       ...,\n",
       "       [1775156,      55,      14, ...,    1244,     711,     162],\n",
       "       [5892539,      72,      29, ...,    4683,    1959,      14],\n",
       "       [ 581381,      23,      18, ...,    2392,     371,     668]])"
      ]
     },
     "execution_count": 22,
     "metadata": {},
     "output_type": "execute_result"
    }
   ],
   "source": [
    "X"
   ]
  },
  {
   "cell_type": "markdown",
   "metadata": {},
   "source": [
    "### Train Test Split "
   ]
  },
  {
   "cell_type": "code",
   "execution_count": 4,
   "metadata": {},
   "outputs": [],
   "source": [
    "from sklearn.model_selection import train_test_split"
   ]
  },
  {
   "cell_type": "code",
   "execution_count": 25,
   "metadata": {},
   "outputs": [],
   "source": [
    "X_train, X_test, y_train, y_test = train_test_split(X, y, test_size = 0.2, random_state = 1)"
   ]
  },
  {
   "cell_type": "markdown",
   "metadata": {},
   "source": [
    "## Standard Scaler Feature Scaling "
   ]
  },
  {
   "cell_type": "code",
   "execution_count": 23,
   "metadata": {},
   "outputs": [],
   "source": [
    "from sklearn.preprocessing import StandardScaler"
   ]
  },
  {
   "cell_type": "code",
   "execution_count": 26,
   "metadata": {},
   "outputs": [],
   "source": [
    "scaler = StandardScaler()\n",
    "X_train_scaled = scaler.fit_transform(X_train)\n",
    "X_test_scaled = scaler.transform(X_test)"
   ]
  },
  {
   "cell_type": "code",
   "execution_count": 29,
   "metadata": {},
   "outputs": [
    {
     "name": "stdout",
     "output_type": "stream",
     "text": [
      "Scaled X_train data:\n",
      "[[ 9.85480268e-01  1.21972296e-01 -5.57132218e-01 ...  1.66047759e-02\n",
      "  -6.87849062e-01 -6.58810662e-01]\n",
      " [-2.33260662e-01  1.21972296e-01  5.12835679e-01 ... -3.18560833e-01\n",
      "  -6.45004750e-01  1.26513246e+00]\n",
      " [-2.34304862e-01 -5.39850041e-01  4.30530456e-01 ... -6.44571088e-01\n",
      "   3.35359367e+00 -6.95997762e-01]\n",
      " ...\n",
      " [-2.18048435e-03  1.14672946e+00  2.65920010e-01 ... -3.79463848e-01\n",
      "   3.92439660e-01 -2.39966484e-01]\n",
      " [-6.58600387e-01 -6.03897364e-01 -9.68658333e-01 ... -8.39619958e-01\n",
      "  -6.87849062e-01 -7.07741057e-01]\n",
      " [-7.61291690e-01  1.00623189e-01 -9.68658333e-01 ... -9.91280405e-01\n",
      "  -3.81206201e-01 -1.22533536e-01]]\n",
      "\n",
      "Scaled X_test data:\n",
      "[[-0.78869587 -0.81738844  0.01900434 ...  0.56473191 -0.46934307\n",
      "   1.85229719]\n",
      " [-0.25850248  0.1219723  -0.96865833 ... -0.61511473 -0.68784906\n",
      "  -0.30259739]\n",
      " [-0.35781334 -0.53985004 -0.474827   ... -0.86111514 -0.6584701\n",
      "   0.99699389]\n",
      " ...\n",
      " [-0.16235126  0.54895445 -0.39252177 ... -0.50564853 -0.67438371\n",
      "  -0.05207377]\n",
      " [-0.46832931 -0.53985004 -0.88635311 ... -0.78349365 -0.68784906\n",
      "  -0.70774106]\n",
      " [-0.6325044   0.6770491  -1.13326878 ... -1.01755229 -0.68784906\n",
      "   0.15343389]]\n"
     ]
    }
   ],
   "source": [
    "print(\"Scaled X_train data:\")\n",
    "print(X_train_scaled)\n",
    "print(\"\\nScaled X_test data:\")\n",
    "print(X_test_scaled)"
   ]
  },
  {
   "cell_type": "markdown",
   "metadata": {},
   "source": [
    "### Mean Squared Error using Linear Regression"
   ]
  },
  {
   "cell_type": "code",
   "execution_count": 30,
   "metadata": {},
   "outputs": [
    {
     "name": "stdout",
     "output_type": "stream",
     "text": [
      "Mean Squared Error: 187.5234960822979\n"
     ]
    }
   ],
   "source": [
    "from sklearn.linear_model import LinearRegression\n",
    "from sklearn.metrics import mean_squared_error\n",
    "\n",
    "# Create a linear regression model\n",
    "model = LinearRegression()\n",
    "\n",
    "# Fit the model on the scaled training data\n",
    "model.fit(X_train_scaled, y_train)\n",
    "\n",
    "# Make predictions on the scaled test data\n",
    "predictions = model.predict(X_test_scaled)\n",
    "\n",
    "# Evaluate the model (for example, using mean squared error)\n",
    "mse = mean_squared_error(y_test, predictions)\n",
    "print(\"Mean Squared Error:\", mse)"
   ]
  },
  {
   "cell_type": "markdown",
   "metadata": {},
   "source": [
    "## Accuracy, Precision using Logistic Regression "
   ]
  },
  {
   "cell_type": "code",
   "execution_count": 33,
   "metadata": {},
   "outputs": [
    {
     "name": "stdout",
     "output_type": "stream",
     "text": [
      "\n",
      "Accuracy: 0.8519362186788155\n",
      "\n",
      "Precision: 0.871404047204311\n"
     ]
    }
   ],
   "source": [
    "from sklearn.linear_model import LogisticRegression\n",
    "from sklearn.metrics import  accuracy_score, precision_score\n",
    "# Create a logistic regression model with increased max_iter\n",
    "classifier = LogisticRegression(max_iter=1000)  # Increase max_iter as needed\n",
    "\n",
    "# Fit the model on the scaled training data\n",
    "classifier.fit(X_train_scaled, y_train)\n",
    "\n",
    "# Make predictions on the scaled test data\n",
    "predictions = classifier.predict(X_test_scaled)\n",
    "\n",
    "# Calculate and print accuracy\n",
    "accuracy = accuracy_score(y_test, predictions)\n",
    "print(\"\\nAccuracy:\", accuracy)\n",
    "\n",
    "# Calculate and print precision\n",
    "# Assuming 'average' parameter as 'weighted' for multi-class classification\n",
    "precision = precision_score(y_test, predictions, average='weighted')\n",
    "print(\"\\nPrecision:\", precision)"
   ]
  }
 ],
 "metadata": {
  "kernelspec": {
   "display_name": "newenv",
   "language": "python",
   "name": "python3"
  },
  "language_info": {
   "codemirror_mode": {
    "name": "ipython",
    "version": 3
   },
   "file_extension": ".py",
   "mimetype": "text/x-python",
   "name": "python",
   "nbconvert_exporter": "python",
   "pygments_lexer": "ipython3",
   "version": "3.10.9"
  }
 },
 "nbformat": 4,
 "nbformat_minor": 2
}
