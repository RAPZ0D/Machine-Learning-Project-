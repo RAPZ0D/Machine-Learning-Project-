{
  "cells": [
    {
      "cell_type": "markdown",
      "metadata": {
        "colab_type": "text",
        "id": "3DR-eO17geWu"
      },
      "source": [
        "# Convolutional Neural Network"
      ]
    },
    {
      "cell_type": "code",
      "execution_count": 2,
      "metadata": {
        "colab": {},
        "colab_type": "code",
        "id": "sCV30xyVhFbE"
      },
      "outputs": [],
      "source": [
        "import tensorflow as tf\n",
        "from keras.preprocessing.image import ImageDataGenerator"
      ]
    },
    {
      "cell_type": "code",
      "execution_count": 3,
      "metadata": {
        "colab": {},
        "colab_type": "code",
        "id": "FIleuCAjoFD8"
      },
      "outputs": [
        {
          "data": {
            "text/plain": [
              "'2.15.0'"
            ]
          },
          "execution_count": 3,
          "metadata": {},
          "output_type": "execute_result"
        }
      ],
      "source": [
        "tf.__version__"
      ]
    },
    {
      "cell_type": "markdown",
      "metadata": {
        "colab_type": "text",
        "id": "oxQxCBWyoGPE"
      },
      "source": [
        "##  Data Preprocessing"
      ]
    },
    {
      "cell_type": "code",
      "execution_count": 4,
      "metadata": {
        "colab": {},
        "colab_type": "code",
        "id": "0koUcJMJpEBD"
      },
      "outputs": [
        {
          "name": "stdout",
          "output_type": "stream",
          "text": [
            "Found 8000 images belonging to 2 classes.\n"
          ]
        }
      ],
      "source": [
        "train_datagen = ImageDataGenerator(rescale = 1./255,\n",
        "                                   shear_range = 0.2,\n",
        "                                   zoom_range = 0.2,\n",
        "                                   horizontal_flip = True)\n",
        "training_set = train_datagen.flow_from_directory('dataset/training_set',\n",
        "                                                 target_size = (64, 64),\n",
        "                                                 batch_size = 32,\n",
        "                                                 class_mode = 'binary')"
      ]
    },
    {
      "cell_type": "code",
      "execution_count": 5,
      "metadata": {
        "colab": {},
        "colab_type": "code",
        "id": "SH4WzfOhpKc3"
      },
      "outputs": [
        {
          "name": "stdout",
          "output_type": "stream",
          "text": [
            "Found 2000 images belonging to 2 classes.\n"
          ]
        }
      ],
      "source": [
        "test_datagen = ImageDataGenerator(rescale = 1./255)\n",
        "test_set = test_datagen.flow_from_directory('dataset/test_set',\n",
        "                                            target_size = (64, 64),\n",
        "                                            batch_size = 32,\n",
        "                                            class_mode = 'binary')"
      ]
    },
    {
      "cell_type": "markdown",
      "metadata": {
        "colab_type": "text",
        "id": "af8O4l90gk7B"
      },
      "source": [
        "##  Building the CNN"
      ]
    },
    {
      "cell_type": "code",
      "execution_count": 6,
      "metadata": {
        "colab": {},
        "colab_type": "code",
        "id": "SAUt4UMPlhLS"
      },
      "outputs": [],
      "source": [
        "cnn = tf.keras.models.Sequential()"
      ]
    },
    {
      "cell_type": "code",
      "execution_count": 7,
      "metadata": {
        "colab": {},
        "colab_type": "code",
        "id": "XPzPrMckl-hV"
      },
      "outputs": [],
      "source": [
        "cnn.add(tf.keras.layers.Conv2D(filters=32, kernel_size=3, activation='relu', input_shape=[64, 64, 3]))"
      ]
    },
    {
      "cell_type": "code",
      "execution_count": 8,
      "metadata": {
        "colab": {},
        "colab_type": "code",
        "id": "ncpqPl69mOac"
      },
      "outputs": [],
      "source": [
        "cnn.add(tf.keras.layers.MaxPool2D(pool_size=2, strides=2))"
      ]
    },
    {
      "cell_type": "code",
      "execution_count": 9,
      "metadata": {
        "colab": {},
        "colab_type": "code",
        "id": "i_-FZjn_m8gk"
      },
      "outputs": [],
      "source": [
        "cnn.add(tf.keras.layers.Conv2D(filters=32, kernel_size=3, activation='relu'))\n",
        "cnn.add(tf.keras.layers.MaxPool2D(pool_size=2, strides=2))"
      ]
    },
    {
      "cell_type": "code",
      "execution_count": 10,
      "metadata": {
        "colab": {},
        "colab_type": "code",
        "id": "6AZeOGCvnNZn"
      },
      "outputs": [],
      "source": [
        "cnn.add(tf.keras.layers.Flatten())"
      ]
    },
    {
      "cell_type": "code",
      "execution_count": 11,
      "metadata": {
        "colab": {},
        "colab_type": "code",
        "id": "8GtmUlLd26Nq"
      },
      "outputs": [],
      "source": [
        "cnn.add(tf.keras.layers.Dense(units=128, activation='relu'))"
      ]
    },
    {
      "cell_type": "code",
      "execution_count": 12,
      "metadata": {
        "colab": {},
        "colab_type": "code",
        "id": "1p_Zj1Mc3Ko_"
      },
      "outputs": [],
      "source": [
        "cnn.add(tf.keras.layers.Dense(units=1, activation='sigmoid'))"
      ]
    },
    {
      "cell_type": "markdown",
      "metadata": {
        "colab_type": "text",
        "id": "D6XkI90snSDl"
      },
      "source": [
        "## Training the CNN"
      ]
    },
    {
      "cell_type": "code",
      "execution_count": 13,
      "metadata": {
        "colab": {},
        "colab_type": "code",
        "id": "NALksrNQpUlJ"
      },
      "outputs": [],
      "source": [
        "cnn.compile(optimizer = 'adam', loss = 'binary_crossentropy', metrics = ['accuracy'])"
      ]
    },
    {
      "cell_type": "code",
      "execution_count": 14,
      "metadata": {
        "colab": {},
        "colab_type": "code",
        "id": "XUj1W4PJptta"
      },
      "outputs": [
        {
          "name": "stdout",
          "output_type": "stream",
          "text": [
            "Epoch 1/25\n",
            "250/250 [==============================] - 15s 59ms/step - loss: 0.6644 - accuracy: 0.5904 - val_loss: 0.6056 - val_accuracy: 0.6675\n",
            "Epoch 2/25\n",
            "250/250 [==============================] - 15s 58ms/step - loss: 0.5956 - accuracy: 0.6780 - val_loss: 0.5862 - val_accuracy: 0.6900\n",
            "Epoch 3/25\n",
            "250/250 [==============================] - 16s 62ms/step - loss: 0.5542 - accuracy: 0.7168 - val_loss: 0.5268 - val_accuracy: 0.7380\n",
            "Epoch 4/25\n",
            "250/250 [==============================] - 15s 59ms/step - loss: 0.5211 - accuracy: 0.7405 - val_loss: 0.5434 - val_accuracy: 0.7215\n",
            "Epoch 5/25\n",
            "250/250 [==============================] - 13s 52ms/step - loss: 0.5077 - accuracy: 0.7490 - val_loss: 0.5511 - val_accuracy: 0.7235\n",
            "Epoch 6/25\n",
            "250/250 [==============================] - 13s 53ms/step - loss: 0.4834 - accuracy: 0.7697 - val_loss: 0.4871 - val_accuracy: 0.7670\n",
            "Epoch 7/25\n",
            "250/250 [==============================] - 13s 53ms/step - loss: 0.4621 - accuracy: 0.7818 - val_loss: 0.4774 - val_accuracy: 0.7615\n",
            "Epoch 8/25\n",
            "250/250 [==============================] - 15s 58ms/step - loss: 0.4553 - accuracy: 0.7857 - val_loss: 0.4588 - val_accuracy: 0.7850\n",
            "Epoch 9/25\n",
            "250/250 [==============================] - 15s 61ms/step - loss: 0.4438 - accuracy: 0.7909 - val_loss: 0.4558 - val_accuracy: 0.8035\n",
            "Epoch 10/25\n",
            "250/250 [==============================] - 15s 61ms/step - loss: 0.4278 - accuracy: 0.7995 - val_loss: 0.4626 - val_accuracy: 0.7960\n",
            "Epoch 11/25\n",
            "250/250 [==============================] - 15s 60ms/step - loss: 0.4209 - accuracy: 0.8015 - val_loss: 0.4393 - val_accuracy: 0.8040\n",
            "Epoch 12/25\n",
            "250/250 [==============================] - 16s 63ms/step - loss: 0.3972 - accuracy: 0.8205 - val_loss: 0.4452 - val_accuracy: 0.8035\n",
            "Epoch 13/25\n",
            "250/250 [==============================] - 15s 60ms/step - loss: 0.3891 - accuracy: 0.8230 - val_loss: 0.4377 - val_accuracy: 0.8020\n",
            "Epoch 14/25\n",
            "250/250 [==============================] - 15s 59ms/step - loss: 0.3694 - accuracy: 0.8320 - val_loss: 0.4741 - val_accuracy: 0.7910\n",
            "Epoch 15/25\n",
            "250/250 [==============================] - 15s 59ms/step - loss: 0.3712 - accuracy: 0.8285 - val_loss: 0.4423 - val_accuracy: 0.8005\n",
            "Epoch 16/25\n",
            "250/250 [==============================] - 30s 119ms/step - loss: 0.3551 - accuracy: 0.8380 - val_loss: 0.4694 - val_accuracy: 0.7970\n",
            "Epoch 17/25\n",
            "250/250 [==============================] - 15s 61ms/step - loss: 0.3505 - accuracy: 0.8455 - val_loss: 0.4591 - val_accuracy: 0.7995\n",
            "Epoch 18/25\n",
            "250/250 [==============================] - 13s 53ms/step - loss: 0.3274 - accuracy: 0.8535 - val_loss: 0.4390 - val_accuracy: 0.8165\n",
            "Epoch 19/25\n",
            "250/250 [==============================] - 13s 53ms/step - loss: 0.3110 - accuracy: 0.8637 - val_loss: 0.4785 - val_accuracy: 0.8040\n",
            "Epoch 20/25\n",
            "250/250 [==============================] - 13s 53ms/step - loss: 0.3037 - accuracy: 0.8708 - val_loss: 0.4634 - val_accuracy: 0.8085\n",
            "Epoch 21/25\n",
            "250/250 [==============================] - 14s 56ms/step - loss: 0.2917 - accuracy: 0.8721 - val_loss: 0.5552 - val_accuracy: 0.7775\n",
            "Epoch 22/25\n",
            "250/250 [==============================] - 15s 60ms/step - loss: 0.2871 - accuracy: 0.8773 - val_loss: 0.4623 - val_accuracy: 0.8070\n",
            "Epoch 23/25\n",
            "250/250 [==============================] - 15s 60ms/step - loss: 0.2734 - accuracy: 0.8866 - val_loss: 0.5176 - val_accuracy: 0.7985\n",
            "Epoch 24/25\n",
            "250/250 [==============================] - 16s 62ms/step - loss: 0.2635 - accuracy: 0.8876 - val_loss: 0.4975 - val_accuracy: 0.8080\n",
            "Epoch 25/25\n",
            "250/250 [==============================] - 16s 65ms/step - loss: 0.2578 - accuracy: 0.8924 - val_loss: 0.4684 - val_accuracy: 0.8155\n"
          ]
        },
        {
          "data": {
            "text/plain": [
              "<keras.src.callbacks.History at 0x28a45b910>"
            ]
          },
          "execution_count": 14,
          "metadata": {},
          "output_type": "execute_result"
        }
      ],
      "source": [
        "cnn.fit(x = training_set, validation_data = test_set, epochs = 25)"
      ]
    },
    {
      "cell_type": "markdown",
      "metadata": {
        "colab_type": "text",
        "id": "U3PZasO0006Z"
      },
      "source": [
        "## Prediction"
      ]
    },
    {
      "cell_type": "code",
      "execution_count": 15,
      "metadata": {
        "colab": {},
        "colab_type": "code",
        "id": "gsSiWEJY1BPB"
      },
      "outputs": [
        {
          "name": "stdout",
          "output_type": "stream",
          "text": [
            "1/1 [==============================] - 0s 53ms/step\n"
          ]
        }
      ],
      "source": [
        "import numpy as np\n",
        "from keras.preprocessing import image\n",
        "test_image = image.load_img('dataset/single_prediction/cat_or_dog_1.jpg', target_size = (64, 64))\n",
        "test_image = image.img_to_array(test_image)\n",
        "test_image = np.expand_dims(test_image, axis = 0)\n",
        "result = cnn.predict(test_image)\n",
        "training_set.class_indices\n",
        "if result[0][0] == 1:\n",
        "  prediction = 'dog'\n",
        "else:\n",
        "  prediction = 'cat'"
      ]
    },
    {
      "cell_type": "code",
      "execution_count": 16,
      "metadata": {
        "colab": {},
        "colab_type": "code",
        "id": "ED9KB3I54c1i"
      },
      "outputs": [
        {
          "name": "stdout",
          "output_type": "stream",
          "text": [
            "dog\n"
          ]
        }
      ],
      "source": [
        "print(prediction)"
      ]
    },
    {
      "cell_type": "code",
      "execution_count": null,
      "metadata": {},
      "outputs": [],
      "source": []
    }
  ],
  "metadata": {
    "colab": {
      "collapsed_sections": [],
      "name": "convolutional_neural_network.ipynb",
      "provenance": [],
      "toc_visible": true
    },
    "kernelspec": {
      "display_name": "Python 3",
      "name": "python3"
    },
    "language_info": {
      "codemirror_mode": {
        "name": "ipython",
        "version": 3
      },
      "file_extension": ".py",
      "mimetype": "text/x-python",
      "name": "python",
      "nbconvert_exporter": "python",
      "pygments_lexer": "ipython3",
      "version": "3.10.9"
    }
  },
  "nbformat": 4,
  "nbformat_minor": 0
}
